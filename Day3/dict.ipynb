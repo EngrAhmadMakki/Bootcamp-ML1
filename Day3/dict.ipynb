{
 "cells": [
  {
   "cell_type": "markdown",
   "id": "1f48d5c9",
   "metadata": {},
   "source": [
    "# 1. Create a Dictionary from Two Lists\n",
    "\n",
    "## Problem Statement:\n",
    "Write a function to create a dictionary from two lists of equal length, one for keys and one for values.\n",
    "\n",
    "## Example 1:\n",
    "**Input:** `keys = ['a', 'b'], values = [1, 2]`  \n",
    "**Output:** `{'a': 1, 'b': 2}`\n",
    "\n",
    "## Example 2:\n",
    "**Input:** `keys = ['x'], values = [10]`  \n",
    "**Output:** `{'x': 10}`\n"
   ]
  },
  {
   "cell_type": "code",
   "execution_count": 12,
   "id": "3ea65a39",
   "metadata": {},
   "outputs": [
    {
     "data": {
      "text/plain": [
       "{'a': 1, 'b': 2}"
      ]
     },
     "execution_count": 12,
     "metadata": {},
     "output_type": "execute_result"
    }
   ],
   "source": [
    "def createdict(key,val):\n",
    "    dic={}\n",
    "    for i in range(len(keys)):\n",
    "        dic[key[i]]=val[i]\n",
    "    return dic\n",
    "\n",
    "keys = ['a', 'b']\n",
    "values = [1, 2]\n",
    "\n",
    "createdict(keys,values)"
   ]
  },
  {
   "cell_type": "code",
   "execution_count": 14,
   "id": "0a04b5d2-7dc3-4a11-b365-f662ab267533",
   "metadata": {},
   "outputs": [
    {
     "data": {
      "text/plain": [
       "{'x': 10}"
      ]
     },
     "execution_count": 14,
     "metadata": {},
     "output_type": "execute_result"
    }
   ],
   "source": [
    "keys = ['x']\n",
    "values = [10]\n",
    "createdict(keys,values)"
   ]
  },
  {
   "cell_type": "markdown",
   "id": "9016196e",
   "metadata": {},
   "source": [
    "# 2. Merge Two Dictionaries\n",
    "\n",
    "## Problem Statement:\n",
    "Write a function to merge two dictionaries into one.\n",
    "\n",
    "## Example 1:\n",
    "**Input:** `{'a': 1}, {'b': 2}`  \n",
    "**Output:** `{'a': 1, 'b': 2}`\n",
    "\n",
    "## Example 2:\n",
    "**Input:** `{'x': 10}, {'y': 20, 'z': 30}`  \n",
    "**Output:** `{'x': 10, 'y': 20, 'z': 30}`\n"
   ]
  },
  {
   "cell_type": "code",
   "execution_count": 22,
   "id": "5ee5d659",
   "metadata": {},
   "outputs": [
    {
     "data": {
      "text/plain": [
       "{'a': 1, 'b': 2}"
      ]
     },
     "execution_count": 22,
     "metadata": {},
     "output_type": "execute_result"
    }
   ],
   "source": [
    "def mergedic(d1,d2):\n",
    "    dic={}\n",
    "    for key1,val1 in d1.items():\n",
    "        dic[key1]=val1\n",
    "    for key2,val2 in d2.items():\n",
    "        dic[key2]=val2\n",
    "    return dic\n",
    "d1={'a': 1}\n",
    "d2={'b': 2}\n",
    "mergedic(d1,d2)"
   ]
  },
  {
   "cell_type": "code",
   "execution_count": 23,
   "id": "d9d7b5b2",
   "metadata": {},
   "outputs": [
    {
     "data": {
      "text/plain": [
       "{'x': 10, 'y': 20, 'z': 30}"
      ]
     },
     "execution_count": 23,
     "metadata": {},
     "output_type": "execute_result"
    }
   ],
   "source": [
    "d1={'x': 10}\n",
    "d2={'y': 20, 'z': 30}\n",
    "mergedic(d1,d2)"
   ]
  },
  {
   "cell_type": "markdown",
   "id": "c6526c5c",
   "metadata": {},
   "source": [
    "# 3. Check if Key Exists\n",
    "\n",
    "## Problem Statement:\n",
    "Write a function to check if a specific key exists in a dictionary.\n",
    "\n",
    "## Example 1:\n",
    "**Input:** `{'a': 1}, 'a'`  \n",
    "**Output:** `True`\n",
    "\n",
    "## Example 2:\n",
    "**Input:** `{'b': 2}, 'a'`  \n",
    "**Output:** `False`\n"
   ]
  },
  {
   "cell_type": "code",
   "execution_count": 25,
   "id": "a04fa909",
   "metadata": {},
   "outputs": [
    {
     "name": "stdin",
     "output_type": "stream",
     "text": [
      "Input:  a\n"
     ]
    },
    {
     "name": "stdout",
     "output_type": "stream",
     "text": [
      "True\n"
     ]
    }
   ],
   "source": [
    "def checkkey(dic,inp):\n",
    "    for key,val in dic.items():\n",
    "        if key==inp:\n",
    "            print(\"True\")\n",
    "        else:\n",
    "            print(\"False\")\n",
    "d={'a': 1}\n",
    "inp=input(\"Input: \")\n",
    "checkkey(d,inp)"
   ]
  },
  {
   "cell_type": "code",
   "execution_count": 27,
   "id": "b1ef4e37",
   "metadata": {},
   "outputs": [
    {
     "name": "stdin",
     "output_type": "stream",
     "text": [
      "Input:  a\n"
     ]
    },
    {
     "name": "stdout",
     "output_type": "stream",
     "text": [
      "False\n"
     ]
    }
   ],
   "source": [
    "d={'b': 2}\n",
    "inp=input(\"Input: \")\n",
    "checkkey(d,inp)"
   ]
  },
  {
   "cell_type": "markdown",
   "id": "e72c9a22",
   "metadata": {},
   "source": [
    "# 4. Count Frequency of Elements\n",
    "\n",
    "## Problem Statement:\n",
    "Write a function to count the frequency of each element in a list using a dictionary.\n",
    "\n",
    "## Example 1:\n",
    "**Input:** `[1,2,2,3]`  \n",
    "**Output:** `{1:1, 2:2, 3:1}`\n",
    "\n",
    "## Example 2:\n",
    "**Input:** `['a','b','a']`  \n",
    "**Output:** `{'a':2, 'b':1}`\n",
    "\n",
    "\n"
   ]
  },
  {
   "cell_type": "code",
   "execution_count": 31,
   "id": "31fd888e",
   "metadata": {},
   "outputs": [
    {
     "data": {
      "text/plain": [
       "{1: 1, 2: 2, 3: 1}"
      ]
     },
     "execution_count": 31,
     "metadata": {},
     "output_type": "execute_result"
    }
   ],
   "source": [
    "def countfreq(lis):\n",
    "    count_dic={}\n",
    "    for i in lis:\n",
    "        if i in count_dic:\n",
    "            count_dic[i]+=1\n",
    "        else:\n",
    "            count_dic[i]=1\n",
    "    return count_dic\n",
    "\n",
    "lst=[1,2,2,3]\n",
    "countfreq(lst)"
   ]
  },
  {
   "cell_type": "code",
   "execution_count": 32,
   "id": "ad5808ba",
   "metadata": {},
   "outputs": [
    {
     "data": {
      "text/plain": [
       "{'a': 2, 'b': 1}"
      ]
     },
     "execution_count": 32,
     "metadata": {},
     "output_type": "execute_result"
    }
   ],
   "source": [
    "lst=['a','b','a']\n",
    "countfreq(lst)"
   ]
  },
  {
   "cell_type": "markdown",
   "id": "c1b74aa9",
   "metadata": {},
   "source": [
    "# 5. Reverse Dictionary (Unique Values)\n",
    "\n",
    "## Problem Statement:\n",
    "Write a function to reverse keys and values in a dictionary. Assume values are unique.\n",
    "\n",
    "## Example 1:\n",
    "**Input:** `{'a':1, 'b':2}`  \n",
    "**Output:** `{1:'a', 2:'b'}`\n",
    "\n",
    "## Example 2:\n",
    "**Input:** `{'x':'y'}`  \n",
    "**Output:** `{'y':'x'}`\n"
   ]
  },
  {
   "cell_type": "code",
   "execution_count": 33,
   "id": "df0a31ed",
   "metadata": {},
   "outputs": [
    {
     "data": {
      "text/plain": [
       "{1: 'a', 2: 'b'}"
      ]
     },
     "execution_count": 33,
     "metadata": {},
     "output_type": "execute_result"
    }
   ],
   "source": [
    "def reversekeyvalue(dic):\n",
    "    mydic={}\n",
    "    for key,val in dic.items():\n",
    "        mydic[val]=key\n",
    "    return mydic\n",
    "d1={'a':1, 'b':2}\n",
    "reversekeyvalue(d1)"
   ]
  },
  {
   "cell_type": "code",
   "execution_count": 34,
   "id": "ba3b7a1a",
   "metadata": {},
   "outputs": [
    {
     "data": {
      "text/plain": [
       "{'y': 'x'}"
      ]
     },
     "execution_count": 34,
     "metadata": {},
     "output_type": "execute_result"
    }
   ],
   "source": [
    "d2={'x':'y'}\n",
    "reversekeyvalue(d2)"
   ]
  },
  {
   "cell_type": "markdown",
   "id": "bfc01a37",
   "metadata": {},
   "source": [
    "# 6. Dictionary with Maximum Value\n",
    "\n",
    "## Problem Statement:\n",
    "Write a function that returns the key with the highest value in a dictionary.\n",
    "\n",
    "## Example 1:\n",
    "**Input:** `{'a':3, 'b':10}`  \n",
    "**Output:** `'b'`\n",
    "\n",
    "## Example 2:\n",
    "**Input:** `{'x':1, 'y':-5}`  \n",
    "**Output:** `'x'`\n"
   ]
  },
  {
   "cell_type": "code",
   "execution_count": 35,
   "id": "3ebfad1c",
   "metadata": {},
   "outputs": [
    {
     "data": {
      "text/plain": [
       "'b'"
      ]
     },
     "execution_count": 35,
     "metadata": {},
     "output_type": "execute_result"
    }
   ],
   "source": [
    "def max_dic(dic):\n",
    "    max_value=0\n",
    "    max_key=0\n",
    "    for key,val in dic.items():\n",
    "        if val>max_value:\n",
    "            max_value=val\n",
    "            max_key=key\n",
    "    return max_key\n",
    "d1={'a':3, 'b':10}\n",
    "max_dic(d1)\n",
    "        "
   ]
  },
  {
   "cell_type": "code",
   "execution_count": 36,
   "id": "2aead54f",
   "metadata": {},
   "outputs": [
    {
     "data": {
      "text/plain": [
       "'x'"
      ]
     },
     "execution_count": 36,
     "metadata": {},
     "output_type": "execute_result"
    }
   ],
   "source": [
    "d2={'x':1, 'y':-5}\n",
    "max_dic(d2)"
   ]
  },
  {
   "cell_type": "markdown",
   "id": "2df1f7ab",
   "metadata": {},
   "source": [
    "# 7. Remove Key from Dictionary\n",
    "\n",
    "## Problem Statement:\n",
    "Write a function that removes a specified key from a dictionary.\n",
    "\n",
    "## Example 1:\n",
    "**Input:** `{'a':1, 'b':2}, 'a'`  \n",
    "**Output:** `{'b':2}`\n",
    "\n",
    "## Example 2:\n",
    "**Input:** `{'x':3, 'y':4}, 'z'`  \n",
    "**Output:** `{'x':3, 'y':4}`\n"
   ]
  },
  {
   "cell_type": "code",
   "execution_count": 38,
   "id": "ebc9c007",
   "metadata": {},
   "outputs": [
    {
     "data": {
      "text/plain": [
       "{'b': 2}"
      ]
     },
     "execution_count": 38,
     "metadata": {},
     "output_type": "execute_result"
    }
   ],
   "source": [
    "def rmkey(dic,inp):\n",
    "    mydic={}\n",
    "    for key,val in dic.items():\n",
    "        if inp!=key:\n",
    "            mydic[key]=val\n",
    "    return mydic\n",
    "d1={'a':1, 'b':2}\n",
    "inp='a'\n",
    "rmkey(d1,inp)"
   ]
  },
  {
   "cell_type": "code",
   "execution_count": 39,
   "id": "4c042f24",
   "metadata": {},
   "outputs": [
    {
     "data": {
      "text/plain": [
       "{'x': 3, 'y': 4}"
      ]
     },
     "execution_count": 39,
     "metadata": {},
     "output_type": "execute_result"
    }
   ],
   "source": [
    "d2={'x':3, 'y':4}\n",
    "inp='z'\n",
    "rmkey(d2,inp)"
   ]
  },
  {
   "cell_type": "markdown",
   "id": "542b30d7",
   "metadata": {},
   "source": [
    "# 8. Dictionary from String\n",
    "\n",
    "## Problem Statement:\n",
    "Write a function to count the occurrences of each character in a given string using a dictionary.\n",
    "\n",
    "## Example 1:\n",
    "**Input:** `\"hello\"`  \n",
    "**Output:** `{'h':1,'e':1,'l':2,'o':1}`\n",
    "\n",
    "## Example 2:\n",
    "**Input:** `\"abc\"`  \n",
    "**Output:** `{'a':1,'b':1,'c':1}`\n",
    "\n",
    "\n"
   ]
  },
  {
   "cell_type": "code",
   "execution_count": 41,
   "id": "1a0604ff",
   "metadata": {},
   "outputs": [
    {
     "data": {
      "text/plain": [
       "{'h': 1, 'e': 1, 'l': 2, 'o': 1}"
      ]
     },
     "execution_count": 41,
     "metadata": {},
     "output_type": "execute_result"
    }
   ],
   "source": [
    "def count_char(string):\n",
    "    mydic={}\n",
    "    for i in string:\n",
    "        if i in mydic:\n",
    "            mydic[i]+=1\n",
    "        else:\n",
    "            mydic[i]=1\n",
    "    return mydic\n",
    "s=\"hello\"\n",
    "count_char(s)"
   ]
  },
  {
   "cell_type": "code",
   "execution_count": 42,
   "id": "40b87328-746b-491e-a433-4e8c41c992bf",
   "metadata": {},
   "outputs": [
    {
     "data": {
      "text/plain": [
       "{'a': 1, 'b': 1, 'c': 1}"
      ]
     },
     "execution_count": 42,
     "metadata": {},
     "output_type": "execute_result"
    }
   ],
   "source": [
    "s='abc'\n",
    "count_char(s)"
   ]
  },
  {
   "cell_type": "markdown",
   "id": "b8bb6168",
   "metadata": {},
   "source": [
    "# 9. Update Value in Dictionary\n",
    "\n",
    "## Problem Statement:\n",
    "Write a function to update a value associated with a given key in a dictionary.\n",
    "\n",
    "## Example 1:\n",
    "**Input:** `{'a':1}, 'a', 100`  \n",
    "**Output:** `{'a':100}`\n",
    "\n",
    "## Example 2:\n",
    "**Input:** `{'x':10}, 'y', 20`  \n",
    "**Output:** `{'x':10, 'y':20}`\n"
   ]
  },
  {
   "cell_type": "code",
   "execution_count": 49,
   "id": "7a8a617e",
   "metadata": {},
   "outputs": [
    {
     "data": {
      "text/plain": [
       "{'a': 100}"
      ]
     },
     "execution_count": 49,
     "metadata": {},
     "output_type": "execute_result"
    }
   ],
   "source": [
    "def updatevalue(dic,inp,up_value):\n",
    "    mydic={}\n",
    "    for key,val in dic.items():\n",
    "        if inp==key:\n",
    "            mydic[key]=up_value\n",
    "        else:\n",
    "            mydic[key]=val\n",
    "    return mydic\n",
    "    \n",
    "d1={'a':1}\n",
    "inp='a'\n",
    "updated_value=100\n",
    "updatevalue(d1,inp,updated_value)"
   ]
  },
  {
   "cell_type": "code",
   "execution_count": 50,
   "id": "1345099a",
   "metadata": {},
   "outputs": [
    {
     "data": {
      "text/plain": [
       "{'x': 10}"
      ]
     },
     "execution_count": 50,
     "metadata": {},
     "output_type": "execute_result"
    }
   ],
   "source": [
    "d2={'x':10}\n",
    "inp='y'\n",
    "up_va=20\n",
    "updatevalue(d2,inp,up_va)"
   ]
  },
  {
   "cell_type": "markdown",
   "id": "8b580e88",
   "metadata": {},
   "source": [
    "# 10. Sort Dictionary by Values\n",
    "\n",
    "## Problem Statement:\n",
    "Write a function to sort a dictionary by values in ascending order.\n",
    "\n",
    "## Example 1:\n",
    "**Input:** `{'a':3, 'b':1}`  \n",
    "**Output:** `{'b':1, 'a':3}`\n",
    "\n",
    "## Example 2:\n",
    "**Input:** `{'x':4,'y':2}`  \n",
    "**Output:** `{'y':2, 'x':4}`\n"
   ]
  },
  {
   "cell_type": "code",
   "execution_count": 110,
   "id": "4cfc1e2c",
   "metadata": {},
   "outputs": [
    {
     "data": {
      "text/plain": [
       "{'b': 1, 'a': 3}"
      ]
     },
     "execution_count": 110,
     "metadata": {},
     "output_type": "execute_result"
    }
   ],
   "source": [
    "def sort_dict(dic):\n",
    "    ordered=sorted(dic.values())\n",
    "    mydic={}\n",
    "    for val in ordered:\n",
    "        for key1,val1 in dic.items():\n",
    "            if val==val1:\n",
    "                mydic[key1]=val\n",
    "    return mydic\n",
    "    \n",
    "d={'a':3, 'b':1}\n",
    "sort_dict(d)"
   ]
  },
  {
   "cell_type": "code",
   "execution_count": 111,
   "id": "deac7ba4",
   "metadata": {},
   "outputs": [
    {
     "data": {
      "text/plain": [
       "{'y': 2, 'x': 4}"
      ]
     },
     "execution_count": 111,
     "metadata": {},
     "output_type": "execute_result"
    }
   ],
   "source": [
    "d={'x':4,'y':2}\n",
    "sort_dict(d)"
   ]
  },
  {
   "cell_type": "markdown",
   "id": "923a13f3",
   "metadata": {},
   "source": [
    "# 11. Dictionary Intersection\n",
    "\n",
    "## Problem Statement:\n",
    "Write a function that returns a dictionary containing keys common to two dictionaries with values from the first dictionary.\n",
    "\n",
    "## Example 1:\n",
    "**Input:** `{'a':1, 'b':2}, {'b':4, 'c':3}`  \n",
    "**Output:** `{'b':2}`\n",
    "\n",
    "## Example 2:\n",
    "**Input:** `{'x':5}, {'y':5}`  \n",
    "**Output:** `{}`\n"
   ]
  },
  {
   "cell_type": "code",
   "execution_count": 53,
   "id": "463eed21",
   "metadata": {},
   "outputs": [
    {
     "data": {
      "text/plain": [
       "{'b': 2}"
      ]
     },
     "execution_count": 53,
     "metadata": {},
     "output_type": "execute_result"
    }
   ],
   "source": [
    "def intersec_dic(d1,d2):\n",
    "    mydic={}\n",
    "    for key1,value1 in d1.items():\n",
    "        for key2,value2 in d2.items():\n",
    "            if key1==key2:\n",
    "                mydic[key1]=value1\n",
    "    return mydic\n",
    "d1={'a':1, 'b':2}\n",
    "d2={'b':4, 'c':3}\n",
    "intersec_dic(d1,d2)"
   ]
  },
  {
   "cell_type": "code",
   "execution_count": 55,
   "id": "8ea06653",
   "metadata": {},
   "outputs": [
    {
     "data": {
      "text/plain": [
       "{}"
      ]
     },
     "execution_count": 55,
     "metadata": {},
     "output_type": "execute_result"
    }
   ],
   "source": [
    "d1={'x':5}\n",
    "d2={'y':5}\n",
    "intersec_dic(d1,d2)"
   ]
  },
  {
   "cell_type": "markdown",
   "id": "328b85be",
   "metadata": {},
   "source": [
    "# 14. Filter Dictionary by Values\n",
    "\n",
    "## Problem Statement:\n",
    "Write a function to filter a dictionary, keeping only items where the value is greater than a given number.\n",
    "\n",
    "## Example 1:\n",
    "**Input:** `{'a':5, 'b':2, 'c':8}, 4`  \n",
    "**Output:** `{'a':5, 'c':8}`\n",
    "\n",
    "## Example 2:\n",
    "**Input:** `{'x':1, 'y':3}, 2`  \n",
    "**Output:** `{'y':3}`\n"
   ]
  },
  {
   "cell_type": "code",
   "execution_count": 57,
   "id": "58e19b37",
   "metadata": {},
   "outputs": [
    {
     "data": {
      "text/plain": [
       "{'a': 5, 'c': 8}"
      ]
     },
     "execution_count": 57,
     "metadata": {},
     "output_type": "execute_result"
    }
   ],
   "source": [
    "def Filter(d1,inp):\n",
    "    dic={}\n",
    "    for key, value in d1.items():\n",
    "        if value>inp:\n",
    "            dic[key]=value\n",
    "    return dic\n",
    "d={'a':5, 'b':2, 'c':8}\n",
    "inp=4\n",
    "Filter(d,inp)"
   ]
  },
  {
   "cell_type": "code",
   "execution_count": 58,
   "id": "55c9884b",
   "metadata": {},
   "outputs": [
    {
     "data": {
      "text/plain": [
       "{'y': 3}"
      ]
     },
     "execution_count": 58,
     "metadata": {},
     "output_type": "execute_result"
    }
   ],
   "source": [
    "d={'x':1, 'y':3}\n",
    "inp=2\n",
    "Filter(d,inp)"
   ]
  },
  {
   "cell_type": "markdown",
   "id": "b37b6bd2",
   "metadata": {},
   "source": [
    "# 16. Dictionary from List of Tuples\n",
    "\n",
    "## Problem Statement:\n",
    "Write a function that converts a list of tuples into a dictionary, combining values for duplicate keys into lists.\n",
    "\n",
    "## Example 1:\n",
    "**Input:** `[('a',1), ('b',2), ('a',3)]`  \n",
    "**Output:** `{'a':[1,3], 'b':[2]}`\n",
    "\n",
    "## Example 2:\n",
    "**Input:** `[('x',4)]`  \n",
    "**Output:** `{'x':[4]}`\n"
   ]
  },
  {
   "cell_type": "code",
   "execution_count": 72,
   "id": "0cabcc36",
   "metadata": {},
   "outputs": [
    {
     "data": {
      "text/plain": [
       "{'a': [1, 3], 'b': [2]}"
      ]
     },
     "execution_count": 72,
     "metadata": {},
     "output_type": "execute_result"
    }
   ],
   "source": [
    "def dic_from_tuples(lst):\n",
    "    dic={}\n",
    "    for key,val in lst:\n",
    "        if key in dic:\n",
    "            dic[key].append(val)\n",
    "        else:\n",
    "            dic[key]=[val]\n",
    "    return dic\n",
    "lst=[('a',1), ('b',2), ('a',3)]\n",
    "dic_from_tuples(lst)"
   ]
  },
  {
   "cell_type": "code",
   "execution_count": 73,
   "id": "1ba92174",
   "metadata": {},
   "outputs": [
    {
     "data": {
      "text/plain": [
       "{'x': [4]}"
      ]
     },
     "execution_count": 73,
     "metadata": {},
     "output_type": "execute_result"
    }
   ],
   "source": [
    "lst=[('x',4)]\n",
    "dic_from_tuples(lst)"
   ]
  },
  {
   "cell_type": "markdown",
   "id": "a2f6a871",
   "metadata": {},
   "source": [
    "# 17. Increment Dictionary Values\n",
    "\n",
    "## Problem Statement:\n",
    "Write a function to increment all integer values in a dictionary by a specified number.\n",
    "\n",
    "## Example 1:\n",
    "**Input:** `{'a':1, 'b':2}, 3`  \n",
    "**Output:** `{'a':4, 'b':5}`\n",
    "\n",
    "## Example 2:\n",
    "**Input:** `{'x':10}, -2`  \n",
    "**Output:** `{'x':8}`\n"
   ]
  },
  {
   "cell_type": "code",
   "execution_count": 64,
   "id": "2cae3f6e",
   "metadata": {},
   "outputs": [
    {
     "data": {
      "text/plain": [
       "{'a': 4, 'b': 5}"
      ]
     },
     "execution_count": 64,
     "metadata": {},
     "output_type": "execute_result"
    }
   ],
   "source": [
    "def increment(dic,inp):\n",
    "    mydic={}\n",
    "    for key,val in dic.items():\n",
    "        mydic[key]=val+inp\n",
    "    return mydic\n",
    "    \n",
    "d={'a':1, 'b':2}\n",
    "inp=3\n",
    "increment(d,inp)"
   ]
  },
  {
   "cell_type": "code",
   "execution_count": 65,
   "id": "5a8c4696",
   "metadata": {},
   "outputs": [
    {
     "data": {
      "text/plain": [
       "{'x': 8}"
      ]
     },
     "execution_count": 65,
     "metadata": {},
     "output_type": "execute_result"
    }
   ],
   "source": [
    "d={'x':10}\n",
    "inp=-2\n",
    "increment(d,inp)"
   ]
  },
  {
   "cell_type": "markdown",
   "id": "1a4997f3",
   "metadata": {},
   "source": [
    "# 18. Find Duplicates in List Using Dictionary\n",
    "\n",
    "## Problem Statement:\n",
    "Write a function to find all elements that appear more than once in a list, using a dictionary.\n",
    "\n",
    "## Example 1:\n",
    "**Input:** `[1,2,2,3,4,4,4]`  \n",
    "**Output:** `[2,4]`\n",
    "\n",
    "## Example 2:\n",
    "**Input:** `['a','b','c','a']`  \n",
    "**Output:** `['a']`\n"
   ]
  },
  {
   "cell_type": "code",
   "execution_count": 82,
   "id": "35f77861",
   "metadata": {},
   "outputs": [
    {
     "data": {
      "text/plain": [
       "[2, 4]"
      ]
     },
     "execution_count": 82,
     "metadata": {},
     "output_type": "execute_result"
    }
   ],
   "source": [
    "def duplicates(lst):\n",
    "    mydic={}\n",
    "    duplicates=[]\n",
    "    for i in lst:\n",
    "       if i in mydic:\n",
    "           mydic[i]+=1\n",
    "       else:\n",
    "           mydic[i]=1\n",
    "    for key, val in mydic.items():\n",
    "        if val>1:\n",
    "            duplicates.append(key)\n",
    "    return duplicates\n",
    "    \n",
    "lst=[1,2,2,3,4,4,4]\n",
    "duplicates(lst)"
   ]
  },
  {
   "cell_type": "code",
   "execution_count": 83,
   "id": "e2d4570d",
   "metadata": {},
   "outputs": [
    {
     "data": {
      "text/plain": [
       "['a']"
      ]
     },
     "execution_count": 83,
     "metadata": {},
     "output_type": "execute_result"
    }
   ],
   "source": [
    "lst=['a','b','c','a']\n",
    "duplicates(lst)"
   ]
  },
  {
   "cell_type": "markdown",
   "id": "37dab363",
   "metadata": {},
   "source": [
    "# 19. Merge Dictionaries Summing Values\n",
    "\n",
    "## Problem Statement:\n",
    "Write a function to merge two dictionaries, summing values for common keys.\n",
    "\n",
    "## Example 1:\n",
    "**Input:** `{'a':2, 'b':3}, {'a':3, 'c':1}`  \n",
    "**Output:** `{'a':5, 'b':3, 'c':1}`\n",
    "\n",
    "## Example 2:\n",
    "**Input:** `{'x':1}, {'x':-1}`  \n",
    "**Output:** `{'x':0}`\n"
   ]
  },
  {
   "cell_type": "code",
   "execution_count": 92,
   "id": "f6b073b2",
   "metadata": {},
   "outputs": [
    {
     "data": {
      "text/plain": [
       "{'a': 3, 'c': 1, 'b': 3}"
      ]
     },
     "execution_count": 92,
     "metadata": {},
     "output_type": "execute_result"
    }
   ],
   "source": [
    "def merge_by_summing(d1,d2):\n",
    "    mydic={}\n",
    "    for key1,val1 in d1.items():\n",
    "        for key2,val2 in d2.items():\n",
    "            if key1==key2:\n",
    "                mydic[key1]=val1+val2\n",
    "            else:\n",
    "                mydic[key1]=val1\n",
    "                mydic[key2]=val2\n",
    "    return mydic\n",
    "dic1={'a':2, 'b':3}\n",
    "dic2={'a':3, 'c':1}\n",
    "merge_by_summing(dic1,dic2)"
   ]
  },
  {
   "cell_type": "code",
   "execution_count": 94,
   "id": "4931ea97",
   "metadata": {},
   "outputs": [
    {
     "data": {
      "text/plain": [
       "{'x': 0}"
      ]
     },
     "execution_count": 94,
     "metadata": {},
     "output_type": "execute_result"
    }
   ],
   "source": [
    "a={'x':1}\n",
    "b={'x':-1}\n",
    "merge_by_summing(a,b)"
   ]
  },
  {
   "cell_type": "markdown",
   "id": "01937f89",
   "metadata": {},
   "source": [
    "# 20. Dictionary of Lists to Dictionary of Sums\n",
    "\n",
    "## Problem Statement:\n",
    "Write a function to convert a dictionary of lists into a dictionary of sums.\n",
    "\n",
    "## Example 1:\n",
    "**Input:** `{'a':[1,2,3], 'b':[4,5]}`  \n",
    "**Output:** `{'a':6, 'b':9}`\n",
    "\n",
    "## Example 2:\n",
    "**Input:** `{'x':[10]}`  \n",
    "**Output:** `{'x':10}`\n"
   ]
  },
  {
   "cell_type": "code",
   "execution_count": 95,
   "id": "02599144",
   "metadata": {},
   "outputs": [
    {
     "data": {
      "text/plain": [
       "{'a': 6, 'b': 9}"
      ]
     },
     "execution_count": 95,
     "metadata": {},
     "output_type": "execute_result"
    }
   ],
   "source": [
    "def dicofsum(d):\n",
    "    mydic={}\n",
    "    for key,val in d.items():\n",
    "        mydic[key]=sum(val)\n",
    "    return mydic\n",
    "d={'a':[1,2,3], 'b':[4,5]}\n",
    "dicofsum(d)"
   ]
  },
  {
   "cell_type": "code",
   "execution_count": 96,
   "id": "551ecc09",
   "metadata": {},
   "outputs": [
    {
     "data": {
      "text/plain": [
       "{'x': 10}"
      ]
     },
     "execution_count": 96,
     "metadata": {},
     "output_type": "execute_result"
    }
   ],
   "source": [
    "d={'x':[10]}\n",
    "dicofsum(d)"
   ]
  }
 ],
 "metadata": {
  "kernelspec": {
   "display_name": "Python 3 (ipykernel)",
   "language": "python",
   "name": "python3"
  },
  "language_info": {
   "codemirror_mode": {
    "name": "ipython",
    "version": 3
   },
   "file_extension": ".py",
   "mimetype": "text/x-python",
   "name": "python",
   "nbconvert_exporter": "python",
   "pygments_lexer": "ipython3",
   "version": "3.12.7"
  }
 },
 "nbformat": 4,
 "nbformat_minor": 5
}
